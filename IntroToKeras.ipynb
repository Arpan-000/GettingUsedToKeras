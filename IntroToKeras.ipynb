{
  "nbformat": 4,
  "nbformat_minor": 0,
  "metadata": {
    "colab": {
      "provenance": [],
      "authorship_tag": "ABX9TyNwFRjqkjTWpUpASRQnkydf",
      "include_colab_link": true
    },
    "kernelspec": {
      "name": "python3",
      "display_name": "Python 3"
    },
    "language_info": {
      "name": "python"
    }
  },
  "cells": [
    {
      "cell_type": "markdown",
      "metadata": {
        "id": "view-in-github",
        "colab_type": "text"
      },
      "source": [
        "<a href=\"https://colab.research.google.com/github/Arpan-000/GettingUsedToKeras/blob/main/IntroToKeras.ipynb\" target=\"_parent\"><img src=\"https://colab.research.google.com/assets/colab-badge.svg\" alt=\"Open In Colab\"/></a>"
      ]
    },
    {
      "cell_type": "markdown",
      "source": [
        "Keras is an open-source deep learning library that provides a high-level interface for building, training, and deploying neural networks"
      ],
      "metadata": {
        "id": "SoxNUGh0oRoD"
      }
    },
    {
      "cell_type": "code",
      "source": [
        "import tensorflow as tf\n",
        "import keras\n",
        "from keras import layers"
      ],
      "metadata": {
        "id": "lqT2q6qEosDg"
      },
      "execution_count": 1,
      "outputs": []
    },
    {
      "cell_type": "markdown",
      "source": [
        "In Keras, a model is a fundamental concept that represents the architecture of a neural network\n",
        "\n",
        "Steps followed to make a model :\n",
        "\n",
        " 1) Define the model\n",
        "\n",
        " 2) Compile the model\n",
        "\n",
        " 3) Train  the model\n",
        "\n",
        " 4)Evaluate the model"
      ],
      "metadata": {
        "id": "hPEVnxATpXhj"
      }
    },
    {
      "cell_type": "code",
      "source": [
        "model = keras.Sequential(\n",
        "    [ layers.Dense( 2,activation = \"relu\", name = \"layer2\" ),\n",
        "       layers.Dense(3,activation = \"relu\",name = \"layer3\"),\n",
        "       layers.Dense(4,name =\"layer4\"),\n",
        "\n",
        "    ]\n",
        ")  # weights of the layers r 0 it's only initiated when we give inputs to the model\n"
      ],
      "metadata": {
        "id": "UK2lLlm8pZRk"
      },
      "execution_count": 18,
      "outputs": []
    },
    {
      "cell_type": "code",
      "source": [
        "x =tf.ones((3,3))\n",
        "y = model(x)\n",
        "len(model.weights)"
      ],
      "metadata": {
        "colab": {
          "base_uri": "https://localhost:8080/"
        },
        "id": "6iBw-RalrViM",
        "outputId": "69132775-2394-4d67-9904-e99228fd86e8"
      },
      "execution_count": 19,
      "outputs": [
        {
          "output_type": "execute_result",
          "data": {
            "text/plain": [
              "6"
            ]
          },
          "metadata": {},
          "execution_count": 19
        }
      ]
    },
    {
      "cell_type": "code",
      "source": [
        "model.layers\n"
      ],
      "metadata": {
        "colab": {
          "base_uri": "https://localhost:8080/"
        },
        "id": "sBHXG4nMr6B_",
        "outputId": "b95592b3-406e-4636-c5e0-87688d4ce924"
      },
      "execution_count": 20,
      "outputs": [
        {
          "output_type": "execute_result",
          "data": {
            "text/plain": [
              "[<keras.src.layers.core.dense.Dense at 0x7a88232f5a20>,\n",
              " <keras.src.layers.core.dense.Dense at 0x7a88232f6a70>,\n",
              " <keras.src.layers.core.dense.Dense at 0x7a8833c8fee0>]"
            ]
          },
          "metadata": {},
          "execution_count": 20
        }
      ]
    },
    {
      "cell_type": "code",
      "source": [
        "model.summary()"
      ],
      "metadata": {
        "colab": {
          "base_uri": "https://localhost:8080/"
        },
        "id": "26zw1nJHtO9A",
        "outputId": "29eb742e-320e-4996-f7ce-c669bd46ec8a"
      },
      "execution_count": 22,
      "outputs": [
        {
          "output_type": "stream",
          "name": "stdout",
          "text": [
            "Model: \"sequential_1\"\n",
            "_________________________________________________________________\n",
            " Layer (type)                Output Shape              Param #   \n",
            "=================================================================\n",
            " layer2 (Dense)              (3, 2)                    8         \n",
            "                                                                 \n",
            " layer3 (Dense)              (3, 3)                    9         \n",
            "                                                                 \n",
            " layer4 (Dense)              (3, 4)                    16        \n",
            "                                                                 \n",
            "=================================================================\n",
            "Total params: 33 (132.00 Byte)\n",
            "Trainable params: 33 (132.00 Byte)\n",
            "Non-trainable params: 0 (0.00 Byte)\n",
            "_________________________________________________________________\n"
          ]
        }
      ]
    },
    {
      "cell_type": "code",
      "source": [
        "model = keras.Sequential()\n",
        "model.add(keras.Input(shape=(4,)))\n",
        "model.add(layers.Dense(5,activation = \"relu\",name = \"layer5\"))\n",
        "model.summary()"
      ],
      "metadata": {
        "colab": {
          "base_uri": "https://localhost:8080/"
        },
        "id": "F0p3mUz0tqAo",
        "outputId": "d23b2f9e-31ae-4c2d-f401-057b14a496ee"
      },
      "execution_count": 23,
      "outputs": [
        {
          "output_type": "stream",
          "name": "stdout",
          "text": [
            "Model: \"sequential_2\"\n",
            "_________________________________________________________________\n",
            " Layer (type)                Output Shape              Param #   \n",
            "=================================================================\n",
            " layer5 (Dense)              (None, 5)                 25        \n",
            "                                                                 \n",
            "=================================================================\n",
            "Total params: 25 (100.00 Byte)\n",
            "Trainable params: 25 (100.00 Byte)\n",
            "Non-trainable params: 0 (0.00 Byte)\n",
            "_________________________________________________________________\n"
          ]
        }
      ]
    }
  ]
}